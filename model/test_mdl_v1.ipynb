{
 "cells": [
  {
   "cell_type": "code",
   "execution_count": 15,
   "metadata": {},
   "outputs": [
    {
     "name": "stdout",
     "output_type": "stream",
     "text": [
      "                                     имя файла данных    pred\n",
      "0   raw_data_61fbeecd-8ef7-11ec-a78a-58a023d3f6d9.csv  result\n",
      "1   raw_data_41f438e7-8041-11ed-aa7b-e82aea2c97f4.csv  result\n",
      "2   raw_data_43b5ffcb-2dcc-11ed-a854-e82aea2c97f4.csv  result\n",
      "3   raw_data_28cfe921-2452-11ed-934f-e82aea2c97f4.csv  result\n",
      "4   raw_data_d6107ceb-2f57-11ed-8d23-c86000e163af.csv  result\n",
      "5   raw_data_653b7808-1232-11ed-b03f-b469216ca443.csv  result\n",
      "6   raw_data_b5af8fd7-2379-11ed-9892-b469216ca443.csv  result\n",
      "7   raw_data_12237ba7-3969-11ed-9c2d-b469216ca443.csv  result\n",
      "8   raw_data_aaabd65f-34f9-11ed-ad29-e82aea2c97f4.csv  result\n",
      "9   raw_data_c6193901-2cfc-11ed-bf36-e82aea2c97f4.csv  result\n",
      "10  raw_data_f4a96da9-0be5-11ed-a52f-b469216ca443.csv  result\n",
      "11  raw_data_aca8dcc5-c540-11ec-b9da-e82aea2c97f4.csv  result\n",
      "12  raw_data_a301a9db-b096-11ec-88cd-58a023d3f6d9.csv  result\n",
      "13  raw_data_b31a38cb-76d7-11ed-8b61-e82aea2c97f4.csv  result\n",
      "14  raw_data_a211f23c-22ad-11ed-8de0-b469216ca443.csv  result\n",
      "15  raw_data_145545f1-e0c0-11ec-9f9c-ef54fcc0d655.csv  result\n",
      "16  raw_data_7e3bb845-e073-11ec-bf54-ef54fcc0d655.csv  result\n",
      "17  raw_data_e490537a-4579-11ed-b9b5-e82aea2c97f4.csv  result\n",
      "18  raw_data_ad337c67-e87f-11ec-85eb-b469216ca443.csv  result\n",
      "19  raw_data_17af012b-e061-11ec-81fc-ef54fcc0d655.csv  result\n"
     ]
    }
   ],
   "source": [
    "import numpy as np\n",
    "import pandas as pd\n",
    "import sklearn as skl\n",
    "\n",
    "ds_test_dann = pd.read_csv(r\"test.csv\")\n",
    "res_to_tgbot = pd.DataFrame(columns=[ds_test_dann.columns[0], \"pred\"])\n",
    "\n",
    "for i in np.arange(len(ds_test_dann)):\n",
    "    name_f = ds_test_dann.iloc[i, 0]\n",
    "    # КОД ML\n",
    "    res_to_tgbot.loc[len(res_to_tgbot.index)] = [name_f, \"result\"] \n",
    "\n",
    "print(res_to_tgbot[:20])\n",
    "res_to_tgbot.to_csv(fr'C:\\Users\\maxim\\Desktop\\SASHA\\OSNOVNOE\\PROGRANING\\PYTHON\\DOP\\KODIIM\\1)ML_prjt\\zad1_NTOParcin\\model\\resultToTgBot.csv', index=False, encoding='utf-8')"
   ]
  }
 ],
 "metadata": {
  "kernelspec": {
   "display_name": "Python 3",
   "language": "python",
   "name": "python3"
  },
  "language_info": {
   "codemirror_mode": {
    "name": "ipython",
    "version": 3
   },
   "file_extension": ".py",
   "mimetype": "text/x-python",
   "name": "python",
   "nbconvert_exporter": "python",
   "pygments_lexer": "ipython3",
   "version": "3.9.7"
  }
 },
 "nbformat": 4,
 "nbformat_minor": 2
}
