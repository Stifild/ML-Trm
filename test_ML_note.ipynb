{
 "cells": [
  {
   "cell_type": "code",
   "execution_count": 3,
   "metadata": {},
   "outputs": [
    {
     "name": "stdout",
     "output_type": "stream",
     "text": [
      "                                      имя файла данных          Folder Path  \\\n",
      "0    raw_data_d786d645-db38-11ec-b494-e82aea2c97f4.csv  кинетический тремор   \n",
      "1    raw_data_bdcba44f-0d6a-11ed-8857-b6da2cf29e9d.csv  Постуральный тремор   \n",
      "2    raw_data_750c0f09-b09a-11ec-9699-58a023d3f6d9.csv  Постуральный тремор   \n",
      "3    raw_data_d90846c3-3969-11ed-a96d-b469216ca443.csv                кулак   \n",
      "4    raw_data_c27fbeb3-1882-11ed-95c1-b469216ca443.csv  кинетический тремор   \n",
      "..                                                 ...                  ...   \n",
      "828  raw_data_e454ecdf-6fd9-11ed-8c3e-e82aea2c97f4.csv  Постуральный тремор   \n",
      "829  raw_data_ed2a29d7-c16e-11ec-b4b8-e82aea2c97f4.csv  Постуральный тремор   \n",
      "830  raw_data_f4a07d6b-64c3-11ed-aa07-e82aea2c97f4.csv  Постуральный тремор   \n",
      "831  raw_data_c00aef37-0d5e-11ed-898c-80847c24eb6e.csv  кинетический тремор   \n",
      "832  raw_data_f3bb1bf3-1c63-11ed-8f50-b469216ca443.csv  Постуральный тремор   \n",
      "\n",
      "         пол  полных лет пациент off/on  определенный диагноз врачом (0-5)  \n",
      "0    мужской          52            off                                  1  \n",
      "1    мужской          78             on                                  0  \n",
      "2    мужской          71             on                                  0  \n",
      "3    мужской          23            off                                  1  \n",
      "4    мужской          23            off                                  2  \n",
      "..       ...         ...            ...                                ...  \n",
      "828  мужской          63             on                                  0  \n",
      "829  женский          66             on                                  3  \n",
      "830  женский          67            off                                  0  \n",
      "831  мужской          61             on                                  0  \n",
      "832  мужской          23            off                                  0  \n",
      "\n",
      "[833 rows x 6 columns]\n"
     ]
    }
   ],
   "source": [
    "import pandas as pd\n",
    "import numpy as np\n",
    "import sklearn as skl\n",
    "\n",
    "data = pd.read_csv('MLtest.csv')\n",
    "\n",
    "print(data)"
   ]
  }
 ],
 "metadata": {
  "kernelspec": {
   "display_name": "Python 3",
   "language": "python",
   "name": "python3"
  },
  "language_info": {
   "codemirror_mode": {
    "name": "ipython",
    "version": 3
   },
   "file_extension": ".py",
   "mimetype": "text/x-python",
   "name": "python",
   "nbconvert_exporter": "python",
   "pygments_lexer": "ipython3",
   "version": "3.9.7"
  }
 },
 "nbformat": 4,
 "nbformat_minor": 2
}
