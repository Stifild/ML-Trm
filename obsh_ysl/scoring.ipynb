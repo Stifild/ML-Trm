import pandas as pd
# from sklearn.metrics import accuracy_score


# F1 для тюленей
def get_metrics(truth_csv, solution_csv):
    submit = pd.read_csv(solution_csv)
    truth = pd.read_csv(truth_csv)
    

    public_score = 0
    private_score = 0
    
    for i in truth['имя файла данных'].tolist():
        if truth[submit.path == i]['private'].values[0] == 1:
            private_score += int(submit[submit.path == i]['pred'].values[0] == truth[truth['имя файла данных'] == i]['Folder Path'].values[0])
        elif truth[submit.path == i]['private'].values[0] == 0:
            public_score += int(submit[submit.path == i]['pred'].values[0] == truth[truth['имя файла данных'] == i]['Folder Path'].values[0])
    
    private_acc = private_score/truth[truth.private == 1].shape[0]
    public_acc = public_score/truth[truth.private == 0].shape[0]
    
    return public_acc, private_acc
